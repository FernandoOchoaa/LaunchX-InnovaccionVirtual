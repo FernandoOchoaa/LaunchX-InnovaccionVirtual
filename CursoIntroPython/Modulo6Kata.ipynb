{
 "cells": [
  {
   "cell_type": "markdown",
   "metadata": {},
   "source": [
    "# Ejercicio1: Crear y usar listas de Python\n"
   ]
  },
  {
   "cell_type": "code",
   "execution_count": 38,
   "metadata": {},
   "outputs": [
    {
     "name": "stdout",
     "output_type": "stream",
     "text": [
      "The last indexed planet is:  Pluto\n",
      "There are: 9 planets in the list\n",
      "This is the list of planets:  ['Mercury', 'Venus', 'Earth', 'Mars', 'Jupiter', 'Saturn', 'Neptune', 'Uranus', 'Pluto']\n"
     ]
    }
   ],
   "source": [
    "# Crear la lista de planeta\n",
    "planets = ['Mercury', 'Venus', 'Earth', 'Mars', 'Jupiter', 'Saturn', 'Neptune', 'Uranus', 'Pluto']\n",
    "\n",
    "# Imprimir el último planeta agregado\n",
    "print(\"The last indexed planet is: \", planets[8])\n",
    "\n",
    "# Imprimir la longitud del arreglo\n",
    "print(\"There are:\", len(planets), \"planets in the list\")\n",
    "\n",
    "# Imprimir los elementos de la lista\n",
    "print(\"This is the list of planets: \", planets)"
   ]
  },
  {
   "cell_type": "markdown",
   "metadata": {},
   "source": [
    "# Ejercicio 2: Trabajando con datos de una lista"
   ]
  },
  {
   "cell_type": "code",
   "execution_count": 50,
   "metadata": {},
   "outputs": [
    {
     "name": "stdout",
     "output_type": "stream",
     "text": [
      "The planet: venus is in the list\n",
      "These are the planets closer than venus from the sun\n",
      "['earth', 'mars', 'jupiter', 'saturn', 'uranus', 'neptune', 'pluto']\n"
     ]
    }
   ],
   "source": [
    "# Crear la lista de planetas\n",
    "planets = ['Mercury', 'Venus', 'Earth', 'Mars', 'Jupiter', 'Saturn', 'Uranus', 'Neptune', 'Pluto']\n",
    "\n",
    "# Crear la variable que guardara el input de usuario\n",
    "planet_search = input(\"Search for a planet: \")\n",
    "\n",
    "# Convertir los elementos de la lista a lowercase\n",
    "for i in range(len(planets)):\n",
    "    planets[i] = planets[i].lower()\n",
    "\n",
    "# Busqueda e impresión del planeta buscado por el metodo input\n",
    "if planet_search.lower() in planets:\n",
    "    print(\"The planet:\", planet_search.casefold(), \"is in the list\")\n",
    "else:\n",
    "    print(\"The planet:\", planet_search.casefold(), \"is not in the list :( \")\n",
    "\n",
    "# Busqueda nuevamente del elemento que dará de resultado en que indice se encontro\n",
    "planet_index = planets.index(planet_search)\n",
    "\n",
    "# Imprimir que planetas están mas lejanos al sol después del planeta\n",
    "print(\"Here are the planets further than \" + planet_search.casefold() + \" from the sun\")\n",
    "print(planets[planet_index+1:len(planets)])"
   ]
  }
 ],
 "metadata": {
  "interpreter": {
   "hash": "b00a34e7c9e444dd000caf461b019309cfd968d9686702cf53b65d927d1ae0ad"
  },
  "kernelspec": {
   "display_name": "Python 3.10.1 64-bit",
   "language": "python",
   "name": "python3"
  },
  "language_info": {
   "codemirror_mode": {
    "name": "ipython",
    "version": 3
   },
   "file_extension": ".py",
   "mimetype": "text/x-python",
   "name": "python",
   "nbconvert_exporter": "python",
   "pygments_lexer": "ipython3",
   "version": "3.10.1"
  },
  "orig_nbformat": 4
 },
 "nbformat": 4,
 "nbformat_minor": 2
}
