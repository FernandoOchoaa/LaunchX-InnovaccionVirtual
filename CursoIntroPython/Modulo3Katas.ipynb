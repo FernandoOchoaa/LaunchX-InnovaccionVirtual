{
 "cells": [
  {
   "cell_type": "markdown",
   "metadata": {},
   "source": [
    "# Ejercicio 1"
   ]
  },
  {
   "cell_type": "code",
   "execution_count": 8,
   "metadata": {},
   "outputs": [
    {
     "name": "stdout",
     "output_type": "stream",
     "text": [
      "Todo está bajo control :)\n"
     ]
    }
   ],
   "source": [
    "# Declarar variable\n",
    "velocidadAsteroide = 21\n",
    "\n",
    "# Validación de velocidad, si se cumple imprimir alerta, si no se cumple imprimir mensaje regular\n",
    "if velocidadAsteroide >= 25:\n",
    "    print(\"Alerta un asteroide se acerca demasiado rápido a una velocidad de:\", velocidadAsteroide, \"¡Cuidado...!\")\n",
    "else:\n",
    "    print(\"Todo está bajo control :)\")\n",
    "   \n",
    "\n"
   ]
  },
  {
   "cell_type": "markdown",
   "metadata": {},
   "source": [
    "# Ejercicio 2"
   ]
  },
  {
   "cell_type": "code",
   "execution_count": 11,
   "metadata": {},
   "outputs": [
    {
     "name": "stdout",
     "output_type": "stream",
     "text": [
      "Hay una luz en el cielo\n"
     ]
    }
   ],
   "source": [
    "# Declarar variable\n",
    "velocidadAsteroide = 21\n",
    "\n",
    "# Validar si la velocidad cumple con la condición para dar mensaje de aviso\n",
    "if velocidadAsteroide > 20:\n",
    "    print(\"Hay una luz en el cielo\")\n",
    "elif velocidadAsteroide == 20:\n",
    "    print(\"Hay una luz en el cielo\")\n",
    "else:\n",
    "    print(\"Todo normal :)\")"
   ]
  },
  {
   "cell_type": "markdown",
   "metadata": {},
   "source": [
    "# Ejercicio 3"
   ]
  },
  {
   "cell_type": "code",
   "execution_count": 12,
   "metadata": {},
   "outputs": [
    {
     "name": "stdout",
     "output_type": "stream",
     "text": [
      "Look up! ¡Hay una luz mágica en el cielo!\n"
     ]
    }
   ],
   "source": [
    "# Declarar variables\n",
    "velocidadAsteroide = 25\n",
    "tamanoAsteroide = 40\n",
    "\n",
    "# Validar usando los valores de las variables si es que cumplen las condiciones\n",
    "if velocidadAsteroide > 25 and tamanoAsteroide > 25:\n",
    "    print('¡Alerta, Un asteroide muy peligroso viene hacia la Tierra!')\n",
    "elif velocidadAsteroide >= 20:\n",
    "    print('Look up! ¡Hay una luz mágica en el cielo!')\n",
    "elif tamanoAsteroide < 25:\n",
    "    print('Nada que ver aquí :)')\n",
    "else:\n",
    "    print('Nada que ver aquí :)')"
   ]
  }
 ],
 "metadata": {
  "interpreter": {
   "hash": "b00a34e7c9e444dd000caf461b019309cfd968d9686702cf53b65d927d1ae0ad"
  },
  "kernelspec": {
   "display_name": "Python 3.10.1 64-bit",
   "language": "python",
   "name": "python3"
  },
  "language_info": {
   "codemirror_mode": {
    "name": "ipython",
    "version": 3
   },
   "file_extension": ".py",
   "mimetype": "text/x-python",
   "name": "python",
   "nbconvert_exporter": "python",
   "pygments_lexer": "ipython3",
   "version": "3.10.1"
  },
  "orig_nbformat": 4
 },
 "nbformat": 4,
 "nbformat_minor": 2
}
