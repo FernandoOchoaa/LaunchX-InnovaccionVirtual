{
 "cells": [
  {
   "cell_type": "markdown",
   "metadata": {},
   "source": [
    "# Ejercicio 1 - Utilizar operadores aritméticos"
   ]
  },
  {
   "cell_type": "code",
   "execution_count": 3,
   "metadata": {},
   "outputs": [
    {
     "name": "stdout",
     "output_type": "stream",
     "text": [
      "La diferencia en kilometros es de: 628,949,330\n",
      "La diferencia en millas es de: 390,577,533.93\n"
     ]
    }
   ],
   "source": [
    "# Declarar variables en enteros\n",
    "tierra = 149597870   # km \n",
    "jupiter = 778547200  # km\n",
    "\n",
    "# Encontrar la distancia por medio de resta con el valor absoluto\n",
    "diferencia = abs(tierra-jupiter)\n",
    "\n",
    "# Convertir los KM a Millas\n",
    "dist_millas = diferencia * 0.621\n",
    "\n",
    "# Imprimir y dar formato de 3 cifras a los resultados\n",
    "print(\"La diferencia en kilometros es de: {:,}\".format(diferencia))\n",
    "print(\"La diferencia en millas es de: {:,}\".format(dist_millas))"
   ]
  },
  {
   "cell_type": "markdown",
   "metadata": {},
   "source": [
    "# Ejercicio 2: convierte cadenas en números y usa valores absolutos\n",
    "\n"
   ]
  },
  {
   "cell_type": "markdown",
   "metadata": {},
   "source": [
    "Planeta\tDistancia al sol:\n",
    "Mercurio     57900000\n",
    "\n",
    "Venus\t    108200000\n",
    "\n",
    "Tierra\t    149600000\n",
    "\n",
    "Marte\t    227900000\n",
    "\n",
    "Júpiter\t    778600000\n",
    "\n",
    "Saturno\t   1433500000\n",
    "\n",
    "Urano\t   2872500000\n",
    "\n",
    "Neptuno\t   4495100000"
   ]
  },
  {
   "cell_type": "code",
   "execution_count": 2,
   "metadata": {},
   "outputs": [
    {
     "name": "stdout",
     "output_type": "stream",
     "text": [
      "La diferencia en millas es de: -2,814,600,000\n",
      "La diferencia en millas es de: 1,747,866,600.0\n"
     ]
    }
   ],
   "source": [
    "# Almacenar las entradas del usuario\n",
    "first_planet = input('Introduzca la distancia del sol para el primer planeta en KM')\n",
    "second_planet = input('Introduzca la distancia desde el sol para el segundo planeta en KM')\n",
    "\n",
    "# Convierte las cadenas de ambos planetas a números enteros\n",
    "first_planet = int(first_planet)\n",
    "second_planet = int(second_planet)\n",
    "\n",
    "# Realizar el cálculo y determinar el valor absoluto\n",
    "dist_km = second_planet - first_planet\n",
    "print(\"La diferencia en kilometros es de: {:,}\".format(dist_km))\n",
    "\n",
    "# Convertir de KM a Millas\n",
    "dist_mi = dist_km * 0.621\n",
    "dist_millas = abs(dist_mi)\n",
    "\n",
    "\n",
    "print(\"La diferencia en millas es de: {:,}\".format(dist_millas))\n",
    "\n"
   ]
  }
 ],
 "metadata": {
  "interpreter": {
   "hash": "b00a34e7c9e444dd000caf461b019309cfd968d9686702cf53b65d927d1ae0ad"
  },
  "kernelspec": {
   "display_name": "Python 3.10.1 64-bit",
   "language": "python",
   "name": "python3"
  },
  "language_info": {
   "codemirror_mode": {
    "name": "ipython",
    "version": 3
   },
   "file_extension": ".py",
   "mimetype": "text/x-python",
   "name": "python",
   "nbconvert_exporter": "python",
   "pygments_lexer": "ipython3",
   "version": "3.10.1"
  },
  "orig_nbformat": 4
 },
 "nbformat": 4,
 "nbformat_minor": 2
}
