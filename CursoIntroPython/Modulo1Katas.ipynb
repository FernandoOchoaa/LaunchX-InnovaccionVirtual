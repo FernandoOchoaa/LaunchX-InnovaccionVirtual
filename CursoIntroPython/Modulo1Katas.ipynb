{
 "cells": [
  {
   "cell_type": "markdown",
   "metadata": {},
   "source": [
    "# Fecha de hoy"
   ]
  },
  {
   "cell_type": "code",
   "execution_count": 16,
   "metadata": {},
   "outputs": [
    {
     "name": "stdout",
     "output_type": "stream",
     "text": [
      "Today's date is:  February 06, 2022\n",
      "Today's date is:  2022-02-06\n"
     ]
    }
   ],
   "source": [
    "# Importar libreria necesaria para manipular información de fecha y tiempo\n",
    "from datetime import date\n",
    "\n",
    "# Declarar variable del día actual\n",
    "today = date.today()\n",
    "\n",
    "\n",
    "# Imprimir con formato que día es hoy\n",
    "print(\"Today's date is: \",today.strftime(\"%B %d, %Y\"))\n",
    "\n",
    "print(\"Today's date is: \",today)"
   ]
  },
  {
   "cell_type": "markdown",
   "metadata": {},
   "source": [
    "# Parsec a años luz\n",
    "Usando multiplicación en variable"
   ]
  },
  {
   "cell_type": "code",
   "execution_count": 14,
   "metadata": {},
   "outputs": [
    {
     "name": "stdout",
     "output_type": "stream",
     "text": [
      "11 parsec, is 35.877159999999996 lightyears\n"
     ]
    }
   ],
   "source": [
    "# Declarar variables\n",
    "parsec = 11\n",
    "lightyears = 3.26156*parsec\n",
    "\n",
    "# Imprimir y convertir los parsec a años luz\n",
    "print(str(parsec) + \" parsec, is \" + str(lightyears) + \" lightyears\")"
   ]
  },
  {
   "cell_type": "markdown",
   "metadata": {},
   "source": [
    "# Parsec a años luz\n",
    "Usando multiplicación en print"
   ]
  },
  {
   "cell_type": "code",
   "execution_count": 13,
   "metadata": {},
   "outputs": [
    {
     "name": "stdout",
     "output_type": "stream",
     "text": [
      "11 parsec, is 35.877159999999996 lightyears\n"
     ]
    }
   ],
   "source": [
    "parsec = 11\n",
    "\n",
    "lightyears = 3.26156\n",
    "\n",
    "print(str(parsec) + \" parsec, is \" + str(lightyears*parsec) + \" lightyears\")"
   ]
  }
 ],
 "metadata": {
  "interpreter": {
   "hash": "b00a34e7c9e444dd000caf461b019309cfd968d9686702cf53b65d927d1ae0ad"
  },
  "kernelspec": {
   "display_name": "Python 3.10.1 64-bit",
   "language": "python",
   "name": "python3"
  },
  "language_info": {
   "codemirror_mode": {
    "name": "ipython",
    "version": 3
   },
   "file_extension": ".py",
   "mimetype": "text/x-python",
   "name": "python",
   "nbconvert_exporter": "python",
   "pygments_lexer": "ipython3",
   "version": "3.10.1"
  },
  "orig_nbformat": 4
 },
 "nbformat": 4,
 "nbformat_minor": 2
}
