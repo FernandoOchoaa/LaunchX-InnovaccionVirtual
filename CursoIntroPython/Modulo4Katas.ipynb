{
 "cells": [
  {
   "cell_type": "markdown",
   "metadata": {},
   "source": [
    "# Ejercicio 1: Transformar cadenas"
   ]
  },
  {
   "cell_type": "code",
   "execution_count": 4,
   "metadata": {},
   "outputs": [
    {
     "name": "stdout",
     "output_type": "stream",
     "text": [
      "['Interesting facts about the Moon', \" The Moon is Earth's only satellite\", ' There are several interesting facts about the Moon and how it affects life here on Earth', ' On average, the Moon moves 4cm away from the Earth every year', ' This yearly drift is not significant enough to cause immediate effects on Earth', ' The highest daylight temperature of the Moon is 127 C', '']\n",
      " On average, the Moon moves 4cm away from the Earth every year\n",
      " The highest daylight temperature of the Moon is 127 C\n",
      " On average, the Moon moves 4cm away from the Earth every year\n",
      " The highest daylight temperature of the Moon is 127 Celsius\n"
     ]
    }
   ],
   "source": [
    "text = \"\"\"Interesting facts about the Moon. The Moon is Earth's only satellite. There are several interesting facts about the Moon and how it affects life here on Earth. On average, the Moon moves 4cm away from the Earth every year. This yearly drift is not significant enough to cause immediate effects on Earth. The highest daylight temperature of the Moon is 127 C.\"\"\"\n",
    "\n",
    "# Dividir el texto usando como parametro el . (punto)\n",
    "text_parts = text.split('.')\n",
    "\n",
    "# Imprimir el texto separado\n",
    "print(text_parts)\n",
    "\n",
    "# Declarar palabras clave\n",
    "keywords =['average','temperature','temperature','C']\n",
    "\n",
    "# Crear ciclos anudados para imprimir las oraciones donde haga match las palabras clave\n",
    "for sentence in text_parts:\n",
    "    for keyword in keywords:\n",
    "        if keyword in sentence:\n",
    "            print(sentence) \n",
    "            break\n",
    "\n",
    "# Crear ciclos anudados para buscar y remplazar C por Celsius en el texto\n",
    "for sentence in text_parts:\n",
    "    for keyword in keywords:\n",
    "        if keyword in sentence:\n",
    "            new_sentence=sentence.replace('C','Celsius')\n",
    "            print(new_sentence) \n",
    "            break"
   ]
  },
  {
   "cell_type": "markdown",
   "metadata": {},
   "source": [
    "# Ejercicio 2: Formateando Cadenas"
   ]
  },
  {
   "cell_type": "code",
   "execution_count": 15,
   "metadata": {},
   "outputs": [
    {
     "name": "stdout",
     "output_type": "stream",
     "text": [
      "\n",
      "Datos de Gravedad sobre: Moon\n",
      "-------------------------------------------------------------------------------\n",
      "Nombre del planeta: Earth\n",
      "Gravedad en Moon: 1.6199999999999999 m/s2\n",
      "\n"
     ]
    }
   ],
   "source": [
    "# Declarar las variables\n",
    "name = \"Moon\"\n",
    "gravity = 0.00162 * 1000 # in kms\n",
    "planet = \"Earth\"\n",
    "\n",
    "\n",
    "# Crear una plantillas y asigar donde van a ser colocadas los datos de las variables\n",
    "template = \"\"\"\n",
    "Datos de Gravedad sobre: {name}\n",
    "-------------------------------------------------------------------------------\n",
    "Nombre del planeta: {planet}\n",
    "Gravedad en {name}: {gravity} m/s2\n",
    "\"\"\"\n",
    "\n",
    "# Imprimir la plantilla con los valores de las variables\n",
    "print(template.format(name=name, planet=planet, gravity=gravity))"
   ]
  },
  {
   "cell_type": "code",
   "execution_count": null,
   "metadata": {},
   "outputs": [],
   "source": []
  },
  {
   "cell_type": "code",
   "execution_count": null,
   "metadata": {},
   "outputs": [],
   "source": []
  }
 ],
 "metadata": {
  "interpreter": {
   "hash": "b00a34e7c9e444dd000caf461b019309cfd968d9686702cf53b65d927d1ae0ad"
  },
  "kernelspec": {
   "display_name": "Python 3.10.1 64-bit",
   "language": "python",
   "name": "python3"
  },
  "language_info": {
   "codemirror_mode": {
    "name": "ipython",
    "version": 3
   },
   "file_extension": ".py",
   "mimetype": "text/x-python",
   "name": "python",
   "nbconvert_exporter": "python",
   "pygments_lexer": "ipython3",
   "version": "3.10.1"
  },
  "orig_nbformat": 4
 },
 "nbformat": 4,
 "nbformat_minor": 2
}
